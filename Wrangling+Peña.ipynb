{
 "cells": [
  {
   "cell_type": "code",
   "execution_count": 33,
   "id": "c814bf13",
   "metadata": {},
   "outputs": [],
   "source": [
    "import pandas as pd\n",
    "#Traigo los CSV para trabajar\n",
    "csv1 = pd.read_csv('p_data.csv', sep=';')\n",
    "csv2 = pd.read_csv('w_data.csv', sep=';')"
   ]
  },
  {
   "cell_type": "code",
   "execution_count": 37,
   "id": "861d6613",
   "metadata": {},
   "outputs": [
    {
     "name": "stdout",
     "output_type": "stream",
     "text": [
      "        Age      Sex          ID                 Race         Country  \\\n",
      "0      39.0     Male       49084                White   United-States   \n",
      "1      50.0     Male       68553                White   United-States   \n",
      "2      38.0     Male      143654                White   United-States   \n",
      "3      53.0     Male       41510                Black   United-States   \n",
      "4      28.0   Female      195025                Black            Cuba   \n",
      "...     ...      ...         ...                  ...             ...   \n",
      "48837  33.0     Male   597186815                White   United-States   \n",
      "48838  39.0   Female   735617153                White   United-States   \n",
      "48839  64.0     Male  1131807446                Black   United-States   \n",
      "48840  38.0     Male   781422087                White   United-States   \n",
      "48841  44.0     Male   161771296   Asian-Pac-Islander   United-States   \n",
      "\n",
      "        Education  Education-Num       Marital Status     Relationship  \n",
      "0       Bachelors           13.0        Never-married    Not-in-family  \n",
      "1       Bachelors           13.0   Married-civ-spouse          Husband  \n",
      "2         HS-grad            9.0             Divorced    Not-in-family  \n",
      "3            11th            7.0   Married-civ-spouse          Husband  \n",
      "4       Bachelors           13.0   Married-civ-spouse             Wife  \n",
      "...           ...            ...                  ...              ...  \n",
      "48837   Bachelors           13.0        Never-married        Own-child  \n",
      "48838   Bachelors           13.0             Divorced    Not-in-family  \n",
      "48839     HS-grad            9.0              Widowed   Other-relative  \n",
      "48840   Bachelors           13.0   Married-civ-spouse          Husband  \n",
      "48841   Bachelors           13.0             Divorced        Own-child  \n",
      "\n",
      "[48842 rows x 9 columns]\n"
     ]
    }
   ],
   "source": [
    "#Veo los datos de los datasets\n",
    "print(csv1)"
   ]
  },
  {
   "cell_type": "code",
   "execution_count": 36,
   "id": "75b7b004",
   "metadata": {},
   "outputs": [
    {
     "name": "stdout",
     "output_type": "stream",
     "text": [
      "               Workclass    fnlwgt  Capital Gain  Capital Loss  \\\n",
      "0              State-gov   77516.0        2174.0           0.0   \n",
      "1       Self-emp-not-inc   83311.0           0.0           0.0   \n",
      "2                Private  215646.0           0.0           0.0   \n",
      "3                Private  234721.0           0.0           0.0   \n",
      "4                Private  338409.0           0.0           0.0   \n",
      "...                  ...       ...           ...           ...   \n",
      "48838            Private  215419.0           0.0           0.0   \n",
      "48839                  ?  321403.0           0.0           0.0   \n",
      "48840            Private  374983.0           0.0           0.0   \n",
      "48841            Private   83891.0        5455.0           0.0   \n",
      "48842       Self-emp-inc  182148.0           0.0           0.0   \n",
      "\n",
      "       Hours per week          ID   Target  \n",
      "0                40.0       49084    <=50K  \n",
      "1                13.0       68553    <=50K  \n",
      "2                40.0      143654    <=50K  \n",
      "3                40.0       41510    <=50K  \n",
      "4                40.0      195025    <=50K  \n",
      "...               ...         ...      ...  \n",
      "48838            36.0   735617153   <=50K.  \n",
      "48839            40.0  1131807446   <=50K.  \n",
      "48840            50.0   781422087   <=50K.  \n",
      "48841            40.0   161771296   <=50K.  \n",
      "48842            60.0  1344995623    >50K.  \n",
      "\n",
      "[48843 rows x 7 columns]\n"
     ]
    }
   ],
   "source": [
    "print(csv2)"
   ]
  },
  {
   "cell_type": "code",
   "execution_count": 31,
   "id": "9e8c683a",
   "metadata": {},
   "outputs": [
    {
     "name": "stdout",
     "output_type": "stream",
     "text": [
      "Age               1\n",
      "Sex               1\n",
      "ID                0\n",
      "Race              1\n",
      "Country           1\n",
      "Education         1\n",
      "Education-Num     1\n",
      "Marital Status    1\n",
      "Relationship      1\n",
      "dtype: int64\n",
      "8\n",
      "Age               1\n",
      "Sex               1\n",
      "ID                0\n",
      "Race              1\n",
      "Country           1\n",
      "Education         1\n",
      "Education-Num     1\n",
      "Marital Status    1\n",
      "Relationship      1\n",
      "dtype: int64\n",
      "8\n"
     ]
    }
   ],
   "source": [
    "#Veo los datos nulos y NaN\n",
    "print(csv1.isnull().sum())\n",
    "#Total\n",
    "print(csv1.isnull().sum().sum())\n",
    "print(csv1.isna().sum())\n",
    "#Total\n",
    "print(csv1.isna().sum().sum())"
   ]
  },
  {
   "cell_type": "code",
   "execution_count": 32,
   "id": "0056da34",
   "metadata": {},
   "outputs": [
    {
     "name": "stdout",
     "output_type": "stream",
     "text": [
      "Workclass         1\n",
      "fnlwgt            1\n",
      "Capital Gain      1\n",
      "Capital Loss      1\n",
      "Hours per week    1\n",
      "ID                0\n",
      "Target            1\n",
      "dtype: int64\n",
      "6\n",
      "Workclass         1\n",
      "fnlwgt            1\n",
      "Capital Gain      1\n",
      "Capital Loss      1\n",
      "Hours per week    1\n",
      "ID                0\n",
      "Target            1\n",
      "dtype: int64\n",
      "6\n"
     ]
    }
   ],
   "source": [
    "#Veo los datos nulos y NaN\n",
    "print(csv2.isnull().sum())\n",
    "#Total\n",
    "print(csv2.isnull().sum().sum())\n",
    "print(csv2.isna().sum())\n",
    "#Total\n",
    "print(csv2.isna().sum().sum())"
   ]
  },
  {
   "cell_type": "code",
   "execution_count": 35,
   "id": "026da144",
   "metadata": {},
   "outputs": [
    {
     "name": "stdout",
     "output_type": "stream",
     "text": [
      "        Age      Sex          ID                 Race         Country  \\\n",
      "0      39.0     Male       49084                White   United-States   \n",
      "1      50.0     Male       68553                White   United-States   \n",
      "2      38.0     Male      143654                White   United-States   \n",
      "3      53.0     Male       41510                Black   United-States   \n",
      "4      28.0   Female      195025                Black            Cuba   \n",
      "...     ...      ...         ...                  ...             ...   \n",
      "48837  33.0     Male   597186815                White   United-States   \n",
      "48838  39.0   Female   735617153                White   United-States   \n",
      "48839  64.0     Male  1131807446                Black   United-States   \n",
      "48840  38.0     Male   781422087                White   United-States   \n",
      "48841  44.0     Male   161771296   Asian-Pac-Islander   United-States   \n",
      "\n",
      "        Education  Education-Num       Marital Status     Relationship  \\\n",
      "0       Bachelors           13.0        Never-married    Not-in-family   \n",
      "1       Bachelors           13.0   Married-civ-spouse          Husband   \n",
      "2         HS-grad            9.0             Divorced    Not-in-family   \n",
      "3            11th            7.0   Married-civ-spouse          Husband   \n",
      "4       Bachelors           13.0   Married-civ-spouse             Wife   \n",
      "...           ...            ...                  ...              ...   \n",
      "48837   Bachelors           13.0        Never-married        Own-child   \n",
      "48838   Bachelors           13.0             Divorced    Not-in-family   \n",
      "48839     HS-grad            9.0              Widowed   Other-relative   \n",
      "48840   Bachelors           13.0   Married-civ-spouse          Husband   \n",
      "48841   Bachelors           13.0             Divorced        Own-child   \n",
      "\n",
      "               Workclass    fnlwgt  Capital Gain  Capital Loss  \\\n",
      "0              State-gov   77516.0        2174.0           0.0   \n",
      "1       Self-emp-not-inc   83311.0           0.0           0.0   \n",
      "2                Private  215646.0           0.0           0.0   \n",
      "3                Private  234721.0           0.0           0.0   \n",
      "4                Private  338409.0           0.0           0.0   \n",
      "...                  ...       ...           ...           ...   \n",
      "48837            Private  245211.0           0.0           0.0   \n",
      "48838            Private  215419.0           0.0           0.0   \n",
      "48839                  ?  321403.0           0.0           0.0   \n",
      "48840            Private  374983.0           0.0           0.0   \n",
      "48841            Private   83891.0        5455.0           0.0   \n",
      "\n",
      "       Hours per week   Target  \n",
      "0                40.0    <=50K  \n",
      "1                13.0    <=50K  \n",
      "2                40.0    <=50K  \n",
      "3                40.0    <=50K  \n",
      "4                40.0    <=50K  \n",
      "...               ...      ...  \n",
      "48837            40.0   <=50K.  \n",
      "48838            36.0   <=50K.  \n",
      "48839            40.0   <=50K.  \n",
      "48840            50.0   <=50K.  \n",
      "48841            40.0   <=50K.  \n",
      "\n",
      "[48842 rows x 15 columns]\n"
     ]
    }
   ],
   "source": [
    "#Uno las tablas a partir de los ID\n",
    "MergeTables = pd.merge(csv1, csv2, how='inner',on = ['ID'])\n",
    "print(MergeTables)"
   ]
  },
  {
   "cell_type": "code",
   "execution_count": 39,
   "id": "357d2327",
   "metadata": {},
   "outputs": [
    {
     "name": "stdout",
     "output_type": "stream",
     "text": [
      "         Age    Sex     ID   Race  Country  Education  Education-Num  \\\n",
      "0      False  False  False  False    False      False          False   \n",
      "1      False  False  False  False    False      False          False   \n",
      "2      False  False  False  False    False      False          False   \n",
      "3      False  False  False  False    False      False          False   \n",
      "4      False  False  False  False    False      False          False   \n",
      "...      ...    ...    ...    ...      ...        ...            ...   \n",
      "48837  False  False  False  False    False      False          False   \n",
      "48838  False  False  False  False    False      False          False   \n",
      "48839  False  False  False  False    False      False          False   \n",
      "48840  False  False  False  False    False      False          False   \n",
      "48841  False  False  False  False    False      False          False   \n",
      "\n",
      "       Marital Status  Relationship  Workclass  fnlwgt  Capital Gain  \\\n",
      "0               False         False      False   False         False   \n",
      "1               False         False      False   False         False   \n",
      "2               False         False      False   False         False   \n",
      "3               False         False      False   False         False   \n",
      "4               False         False      False   False         False   \n",
      "...               ...           ...        ...     ...           ...   \n",
      "48837           False         False      False   False         False   \n",
      "48838           False         False      False   False         False   \n",
      "48839           False         False      False   False         False   \n",
      "48840           False         False      False   False         False   \n",
      "48841           False         False      False   False         False   \n",
      "\n",
      "       Capital Loss  Hours per week  Target  \n",
      "0             False           False   False  \n",
      "1             False           False   False  \n",
      "2             False           False   False  \n",
      "3             False           False   False  \n",
      "4             False           False   False  \n",
      "...             ...             ...     ...  \n",
      "48837         False           False   False  \n",
      "48838         False           False   False  \n",
      "48839         False           False   False  \n",
      "48840         False           False   False  \n",
      "48841         False           False   False  \n",
      "\n",
      "[48842 rows x 15 columns]\n"
     ]
    }
   ],
   "source": [
    "datosDiferentes = MergeTables.isna()\n"
   ]
  },
  {
   "cell_type": "code",
   "execution_count": null,
   "id": "55c1844a",
   "metadata": {},
   "outputs": [],
   "source": []
  }
 ],
 "metadata": {
  "kernelspec": {
   "display_name": "Python 3",
   "language": "python",
   "name": "python3"
  },
  "language_info": {
   "codemirror_mode": {
    "name": "ipython",
    "version": 3
   },
   "file_extension": ".py",
   "mimetype": "text/x-python",
   "name": "python",
   "nbconvert_exporter": "python",
   "pygments_lexer": "ipython3",
   "version": "3.8.8"
  }
 },
 "nbformat": 4,
 "nbformat_minor": 5
}
