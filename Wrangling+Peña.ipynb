{
 "cells": [
  {
   "cell_type": "code",
   "execution_count": 1,
   "id": "c814bf13",
   "metadata": {},
   "outputs": [],
   "source": [
    "import pandas as pd\n",
    "#Traigo los CSV para trabajar\n",
    "csv1 = pd.read_csv('p_data.csv', sep=';')\n",
    "csv2 = pd.read_csv('w_data.csv', sep=';')"
   ]
  },
  {
   "cell_type": "code",
   "execution_count": 2,
   "id": "861d6613",
   "metadata": {},
   "outputs": [
    {
     "name": "stdout",
     "output_type": "stream",
     "text": [
      "        Age      Sex          ID                 Race         Country  \\\n",
      "0      39.0     Male       49084                White   United-States   \n",
      "1      50.0     Male       68553                White   United-States   \n",
      "2      38.0     Male      143654                White   United-States   \n",
      "3      53.0     Male       41510                Black   United-States   \n",
      "4      28.0   Female      195025                Black            Cuba   \n",
      "...     ...      ...         ...                  ...             ...   \n",
      "48837  33.0     Male   597186815                White   United-States   \n",
      "48838  39.0   Female   735617153                White   United-States   \n",
      "48839  64.0     Male  1131807446                Black   United-States   \n",
      "48840  38.0     Male   781422087                White   United-States   \n",
      "48841  44.0     Male   161771296   Asian-Pac-Islander   United-States   \n",
      "\n",
      "        Education  Education-Num       Marital Status     Relationship  \n",
      "0       Bachelors           13.0        Never-married    Not-in-family  \n",
      "1       Bachelors           13.0   Married-civ-spouse          Husband  \n",
      "2         HS-grad            9.0             Divorced    Not-in-family  \n",
      "3            11th            7.0   Married-civ-spouse          Husband  \n",
      "4       Bachelors           13.0   Married-civ-spouse             Wife  \n",
      "...           ...            ...                  ...              ...  \n",
      "48837   Bachelors           13.0        Never-married        Own-child  \n",
      "48838   Bachelors           13.0             Divorced    Not-in-family  \n",
      "48839     HS-grad            9.0              Widowed   Other-relative  \n",
      "48840   Bachelors           13.0   Married-civ-spouse          Husband  \n",
      "48841   Bachelors           13.0             Divorced        Own-child  \n",
      "\n",
      "[48842 rows x 9 columns]\n"
     ]
    }
   ],
   "source": [
    "#Veo los datos de los datasets\n",
    "print(csv1)"
   ]
  },
  {
   "cell_type": "code",
   "execution_count": 3,
   "id": "75b7b004",
   "metadata": {},
   "outputs": [
    {
     "name": "stdout",
     "output_type": "stream",
     "text": [
      "               Workclass    fnlwgt  Capital Gain  Capital Loss  \\\n",
      "0              State-gov   77516.0        2174.0           0.0   \n",
      "1       Self-emp-not-inc   83311.0           0.0           0.0   \n",
      "2                Private  215646.0           0.0           0.0   \n",
      "3                Private  234721.0           0.0           0.0   \n",
      "4                Private  338409.0           0.0           0.0   \n",
      "...                  ...       ...           ...           ...   \n",
      "48838            Private  215419.0           0.0           0.0   \n",
      "48839                  ?  321403.0           0.0           0.0   \n",
      "48840            Private  374983.0           0.0           0.0   \n",
      "48841            Private   83891.0        5455.0           0.0   \n",
      "48842       Self-emp-inc  182148.0           0.0           0.0   \n",
      "\n",
      "       Hours per week          ID   Target  \n",
      "0                40.0       49084    <=50K  \n",
      "1                13.0       68553    <=50K  \n",
      "2                40.0      143654    <=50K  \n",
      "3                40.0       41510    <=50K  \n",
      "4                40.0      195025    <=50K  \n",
      "...               ...         ...      ...  \n",
      "48838            36.0   735617153   <=50K.  \n",
      "48839            40.0  1131807446   <=50K.  \n",
      "48840            50.0   781422087   <=50K.  \n",
      "48841            40.0   161771296   <=50K.  \n",
      "48842            60.0  1344995623    >50K.  \n",
      "\n",
      "[48843 rows x 7 columns]\n"
     ]
    }
   ],
   "source": [
    "print(csv2)"
   ]
  },
  {
   "cell_type": "code",
   "execution_count": 4,
   "id": "9e8c683a",
   "metadata": {},
   "outputs": [
    {
     "name": "stdout",
     "output_type": "stream",
     "text": [
      "Age               1\n",
      "Sex               1\n",
      "ID                0\n",
      "Race              1\n",
      "Country           1\n",
      "Education         1\n",
      "Education-Num     1\n",
      "Marital Status    1\n",
      "Relationship      1\n",
      "dtype: int64\n",
      "8\n",
      "Age               1\n",
      "Sex               1\n",
      "ID                0\n",
      "Race              1\n",
      "Country           1\n",
      "Education         1\n",
      "Education-Num     1\n",
      "Marital Status    1\n",
      "Relationship      1\n",
      "dtype: int64\n",
      "8\n"
     ]
    }
   ],
   "source": [
    "#Veo los datos nulos y NaN\n",
    "print(csv1.isnull().sum())\n",
    "#Total\n",
    "print(csv1.isnull().sum().sum())\n",
    "print(csv1.isna().sum())\n",
    "#Total\n",
    "print(csv1.isna().sum().sum())"
   ]
  },
  {
   "cell_type": "code",
   "execution_count": 5,
   "id": "0056da34",
   "metadata": {},
   "outputs": [
    {
     "name": "stdout",
     "output_type": "stream",
     "text": [
      "Workclass         1\n",
      "fnlwgt            1\n",
      "Capital Gain      1\n",
      "Capital Loss      1\n",
      "Hours per week    1\n",
      "ID                0\n",
      "Target            1\n",
      "dtype: int64\n",
      "6\n",
      "Workclass         1\n",
      "fnlwgt            1\n",
      "Capital Gain      1\n",
      "Capital Loss      1\n",
      "Hours per week    1\n",
      "ID                0\n",
      "Target            1\n",
      "dtype: int64\n",
      "6\n"
     ]
    }
   ],
   "source": [
    "#Veo los datos nulos y NaN\n",
    "print(csv2.isnull().sum())\n",
    "#Total\n",
    "print(csv2.isnull().sum().sum())\n",
    "print(csv2.isna().sum())\n",
    "#Total\n",
    "print(csv2.isna().sum().sum())"
   ]
  },
  {
   "cell_type": "code",
   "execution_count": 6,
   "id": "026da144",
   "metadata": {},
   "outputs": [
    {
     "name": "stdout",
     "output_type": "stream",
     "text": [
      "        Age      Sex          ID                 Race         Country  \\\n",
      "0      39.0     Male       49084                White   United-States   \n",
      "1      50.0     Male       68553                White   United-States   \n",
      "2      38.0     Male      143654                White   United-States   \n",
      "3      53.0     Male       41510                Black   United-States   \n",
      "4      28.0   Female      195025                Black            Cuba   \n",
      "...     ...      ...         ...                  ...             ...   \n",
      "48837  33.0     Male   597186815                White   United-States   \n",
      "48838  39.0   Female   735617153                White   United-States   \n",
      "48839  64.0     Male  1131807446                Black   United-States   \n",
      "48840  38.0     Male   781422087                White   United-States   \n",
      "48841  44.0     Male   161771296   Asian-Pac-Islander   United-States   \n",
      "\n",
      "        Education  Education-Num       Marital Status     Relationship  \\\n",
      "0       Bachelors           13.0        Never-married    Not-in-family   \n",
      "1       Bachelors           13.0   Married-civ-spouse          Husband   \n",
      "2         HS-grad            9.0             Divorced    Not-in-family   \n",
      "3            11th            7.0   Married-civ-spouse          Husband   \n",
      "4       Bachelors           13.0   Married-civ-spouse             Wife   \n",
      "...           ...            ...                  ...              ...   \n",
      "48837   Bachelors           13.0        Never-married        Own-child   \n",
      "48838   Bachelors           13.0             Divorced    Not-in-family   \n",
      "48839     HS-grad            9.0              Widowed   Other-relative   \n",
      "48840   Bachelors           13.0   Married-civ-spouse          Husband   \n",
      "48841   Bachelors           13.0             Divorced        Own-child   \n",
      "\n",
      "               Workclass    fnlwgt  Capital Gain  Capital Loss  \\\n",
      "0              State-gov   77516.0        2174.0           0.0   \n",
      "1       Self-emp-not-inc   83311.0           0.0           0.0   \n",
      "2                Private  215646.0           0.0           0.0   \n",
      "3                Private  234721.0           0.0           0.0   \n",
      "4                Private  338409.0           0.0           0.0   \n",
      "...                  ...       ...           ...           ...   \n",
      "48837            Private  245211.0           0.0           0.0   \n",
      "48838            Private  215419.0           0.0           0.0   \n",
      "48839                  ?  321403.0           0.0           0.0   \n",
      "48840            Private  374983.0           0.0           0.0   \n",
      "48841            Private   83891.0        5455.0           0.0   \n",
      "\n",
      "       Hours per week   Target union  \n",
      "0                40.0    <=50K  both  \n",
      "1                13.0    <=50K  both  \n",
      "2                40.0    <=50K  both  \n",
      "3                40.0    <=50K  both  \n",
      "4                40.0    <=50K  both  \n",
      "...               ...      ...   ...  \n",
      "48837            40.0   <=50K.  both  \n",
      "48838            36.0   <=50K.  both  \n",
      "48839            40.0   <=50K.  both  \n",
      "48840            50.0   <=50K.  both  \n",
      "48841            40.0   <=50K.  both  \n",
      "\n",
      "[48842 rows x 16 columns]\n"
     ]
    }
   ],
   "source": [
    "#Uno las tablas a partir de los ID con el método Inner\n",
    "MergeInner = pd.merge(csv1, csv2, how='inner',on = ['ID'], indicator='union')\n",
    "print(MergeInner)"
   ]
  },
  {
   "cell_type": "code",
   "execution_count": 7,
   "id": "69cdfba3",
   "metadata": {},
   "outputs": [
    {
     "name": "stdout",
     "output_type": "stream",
     "text": [
      "        Age      Sex          ID                 Race         Country  \\\n",
      "0      39.0     Male       49084                White   United-States   \n",
      "1      50.0     Male       68553                White   United-States   \n",
      "2      38.0     Male      143654                White   United-States   \n",
      "3      53.0     Male       41510                Black   United-States   \n",
      "4      28.0   Female      195025                Black            Cuba   \n",
      "...     ...      ...         ...                  ...             ...   \n",
      "48838  39.0   Female   735617153                White   United-States   \n",
      "48839  64.0     Male  1131807446                Black   United-States   \n",
      "48840  38.0     Male   781422087                White   United-States   \n",
      "48841  44.0     Male   161771296   Asian-Pac-Islander   United-States   \n",
      "48842   NaN      NaN  1344995623                  NaN             NaN   \n",
      "\n",
      "        Education  Education-Num       Marital Status     Relationship  \\\n",
      "0       Bachelors           13.0        Never-married    Not-in-family   \n",
      "1       Bachelors           13.0   Married-civ-spouse          Husband   \n",
      "2         HS-grad            9.0             Divorced    Not-in-family   \n",
      "3            11th            7.0   Married-civ-spouse          Husband   \n",
      "4       Bachelors           13.0   Married-civ-spouse             Wife   \n",
      "...           ...            ...                  ...              ...   \n",
      "48838   Bachelors           13.0             Divorced    Not-in-family   \n",
      "48839     HS-grad            9.0              Widowed   Other-relative   \n",
      "48840   Bachelors           13.0   Married-civ-spouse          Husband   \n",
      "48841   Bachelors           13.0             Divorced        Own-child   \n",
      "48842         NaN            NaN                  NaN              NaN   \n",
      "\n",
      "               Workclass    fnlwgt  Capital Gain  Capital Loss  \\\n",
      "0              State-gov   77516.0        2174.0           0.0   \n",
      "1       Self-emp-not-inc   83311.0           0.0           0.0   \n",
      "2                Private  215646.0           0.0           0.0   \n",
      "3                Private  234721.0           0.0           0.0   \n",
      "4                Private  338409.0           0.0           0.0   \n",
      "...                  ...       ...           ...           ...   \n",
      "48838            Private  215419.0           0.0           0.0   \n",
      "48839                  ?  321403.0           0.0           0.0   \n",
      "48840            Private  374983.0           0.0           0.0   \n",
      "48841            Private   83891.0        5455.0           0.0   \n",
      "48842       Self-emp-inc  182148.0           0.0           0.0   \n",
      "\n",
      "       Hours per week   Target       union  \n",
      "0                40.0    <=50K        both  \n",
      "1                13.0    <=50K        both  \n",
      "2                40.0    <=50K        both  \n",
      "3                40.0    <=50K        both  \n",
      "4                40.0    <=50K        both  \n",
      "...               ...      ...         ...  \n",
      "48838            36.0   <=50K.        both  \n",
      "48839            40.0   <=50K.        both  \n",
      "48840            50.0   <=50K.        both  \n",
      "48841            40.0   <=50K.        both  \n",
      "48842            60.0    >50K.  right_only  \n",
      "\n",
      "[48843 rows x 16 columns]\n"
     ]
    }
   ],
   "source": [
    "#Uno las tablas a partir de los ID con el método Outer\n",
    "MergeOuter = pd.merge(csv1, csv2, how='outer',on = ['ID'], indicator='union')\n",
    "print(MergeOuter)"
   ]
  },
  {
   "cell_type": "code",
   "execution_count": 8,
   "id": "357d2327",
   "metadata": {},
   "outputs": [
    {
     "name": "stdout",
     "output_type": "stream",
     "text": [
      "Empty DataFrame\n",
      "Columns: [Age, Sex, ID, Race, Country, Education, Education-Num, Marital Status, Relationship, Workclass, fnlwgt, Capital Gain, Capital Loss, Hours per week, Target, union]\n",
      "Index: []\n",
      "Empty DataFrame\n",
      "Columns: [Age, Sex, ID, Race, Country, Education, Education-Num, Marital Status, Relationship, Workclass, fnlwgt, Capital Gain, Capital Loss, Hours per week, Target, union]\n",
      "Index: []\n",
      "        Age      Sex          ID                 Race         Country  \\\n",
      "0      39.0     Male       49084                White   United-States   \n",
      "1      50.0     Male       68553                White   United-States   \n",
      "2      38.0     Male      143654                White   United-States   \n",
      "3      53.0     Male       41510                Black   United-States   \n",
      "4      28.0   Female      195025                Black            Cuba   \n",
      "...     ...      ...         ...                  ...             ...   \n",
      "48837  33.0     Male   597186815                White   United-States   \n",
      "48838  39.0   Female   735617153                White   United-States   \n",
      "48839  64.0     Male  1131807446                Black   United-States   \n",
      "48840  38.0     Male   781422087                White   United-States   \n",
      "48841  44.0     Male   161771296   Asian-Pac-Islander   United-States   \n",
      "\n",
      "        Education  Education-Num       Marital Status     Relationship  \\\n",
      "0       Bachelors           13.0        Never-married    Not-in-family   \n",
      "1       Bachelors           13.0   Married-civ-spouse          Husband   \n",
      "2         HS-grad            9.0             Divorced    Not-in-family   \n",
      "3            11th            7.0   Married-civ-spouse          Husband   \n",
      "4       Bachelors           13.0   Married-civ-spouse             Wife   \n",
      "...           ...            ...                  ...              ...   \n",
      "48837   Bachelors           13.0        Never-married        Own-child   \n",
      "48838   Bachelors           13.0             Divorced    Not-in-family   \n",
      "48839     HS-grad            9.0              Widowed   Other-relative   \n",
      "48840   Bachelors           13.0   Married-civ-spouse          Husband   \n",
      "48841   Bachelors           13.0             Divorced        Own-child   \n",
      "\n",
      "               Workclass    fnlwgt  Capital Gain  Capital Loss  \\\n",
      "0              State-gov   77516.0        2174.0           0.0   \n",
      "1       Self-emp-not-inc   83311.0           0.0           0.0   \n",
      "2                Private  215646.0           0.0           0.0   \n",
      "3                Private  234721.0           0.0           0.0   \n",
      "4                Private  338409.0           0.0           0.0   \n",
      "...                  ...       ...           ...           ...   \n",
      "48837            Private  245211.0           0.0           0.0   \n",
      "48838            Private  215419.0           0.0           0.0   \n",
      "48839                  ?  321403.0           0.0           0.0   \n",
      "48840            Private  374983.0           0.0           0.0   \n",
      "48841            Private   83891.0        5455.0           0.0   \n",
      "\n",
      "       Hours per week   Target union  \n",
      "0                40.0    <=50K  both  \n",
      "1                13.0    <=50K  both  \n",
      "2                40.0    <=50K  both  \n",
      "3                40.0    <=50K  both  \n",
      "4                40.0    <=50K  both  \n",
      "...               ...      ...   ...  \n",
      "48837            40.0   <=50K.  both  \n",
      "48838            36.0   <=50K.  both  \n",
      "48839            40.0   <=50K.  both  \n",
      "48840            50.0   <=50K.  both  \n",
      "48841            40.0   <=50K.  both  \n",
      "\n",
      "[48842 rows x 16 columns]\n"
     ]
    }
   ],
   "source": [
    "#Consigna Punto 1: Cuantos ID tienen en común. Nombrar cuales no tienen en común\n",
    "#Verificamos los datos para las Tablas unidas mediante el método Inner \n",
    "dataDiffLeft = MergeInner[MergeInner.union == 'left_only']\n",
    "dataDiffRight = MergeInner[MergeInner.union == 'right_only']\n",
    "dataEqual = MergeInner[MergeInner.union == 'both']\n",
    "print(dataDiffLeft)\n",
    "print(dataDiffRight)\n",
    "print(dataEqual)\n",
    "#Podemos Observar que no hay ningún elemento DIFERENTE en esta unión inner, con lo que queda demostrado que dicho método solo resultará la unión de los ID's coincidentes"
   ]
  },
  {
   "cell_type": "code",
   "execution_count": 9,
   "id": "55c1844a",
   "metadata": {},
   "outputs": [
    {
     "name": "stdout",
     "output_type": "stream",
     "text": [
      "Empty DataFrame\n",
      "Columns: [Age, Sex, ID, Race, Country, Education, Education-Num, Marital Status, Relationship, Workclass, fnlwgt, Capital Gain, Capital Loss, Hours per week, Target, union]\n",
      "Index: []\n",
      "       Age  Sex          ID Race Country Education  Education-Num  \\\n",
      "48842  NaN  NaN  1344995623  NaN     NaN       NaN            NaN   \n",
      "\n",
      "      Marital Status Relationship      Workclass    fnlwgt  Capital Gain  \\\n",
      "48842            NaN          NaN   Self-emp-inc  182148.0           0.0   \n",
      "\n",
      "       Capital Loss  Hours per week  Target       union  \n",
      "48842           0.0            60.0   >50K.  right_only  \n",
      "        Age      Sex          ID                 Race         Country  \\\n",
      "0      39.0     Male       49084                White   United-States   \n",
      "1      50.0     Male       68553                White   United-States   \n",
      "2      38.0     Male      143654                White   United-States   \n",
      "3      53.0     Male       41510                Black   United-States   \n",
      "4      28.0   Female      195025                Black            Cuba   \n",
      "...     ...      ...         ...                  ...             ...   \n",
      "48837  33.0     Male   597186815                White   United-States   \n",
      "48838  39.0   Female   735617153                White   United-States   \n",
      "48839  64.0     Male  1131807446                Black   United-States   \n",
      "48840  38.0     Male   781422087                White   United-States   \n",
      "48841  44.0     Male   161771296   Asian-Pac-Islander   United-States   \n",
      "\n",
      "        Education  Education-Num       Marital Status     Relationship  \\\n",
      "0       Bachelors           13.0        Never-married    Not-in-family   \n",
      "1       Bachelors           13.0   Married-civ-spouse          Husband   \n",
      "2         HS-grad            9.0             Divorced    Not-in-family   \n",
      "3            11th            7.0   Married-civ-spouse          Husband   \n",
      "4       Bachelors           13.0   Married-civ-spouse             Wife   \n",
      "...           ...            ...                  ...              ...   \n",
      "48837   Bachelors           13.0        Never-married        Own-child   \n",
      "48838   Bachelors           13.0             Divorced    Not-in-family   \n",
      "48839     HS-grad            9.0              Widowed   Other-relative   \n",
      "48840   Bachelors           13.0   Married-civ-spouse          Husband   \n",
      "48841   Bachelors           13.0             Divorced        Own-child   \n",
      "\n",
      "               Workclass    fnlwgt  Capital Gain  Capital Loss  \\\n",
      "0              State-gov   77516.0        2174.0           0.0   \n",
      "1       Self-emp-not-inc   83311.0           0.0           0.0   \n",
      "2                Private  215646.0           0.0           0.0   \n",
      "3                Private  234721.0           0.0           0.0   \n",
      "4                Private  338409.0           0.0           0.0   \n",
      "...                  ...       ...           ...           ...   \n",
      "48837            Private  245211.0           0.0           0.0   \n",
      "48838            Private  215419.0           0.0           0.0   \n",
      "48839                  ?  321403.0           0.0           0.0   \n",
      "48840            Private  374983.0           0.0           0.0   \n",
      "48841            Private   83891.0        5455.0           0.0   \n",
      "\n",
      "       Hours per week   Target union  \n",
      "0                40.0    <=50K  both  \n",
      "1                13.0    <=50K  both  \n",
      "2                40.0    <=50K  both  \n",
      "3                40.0    <=50K  both  \n",
      "4                40.0    <=50K  both  \n",
      "...               ...      ...   ...  \n",
      "48837            40.0   <=50K.  both  \n",
      "48838            36.0   <=50K.  both  \n",
      "48839            40.0   <=50K.  both  \n",
      "48840            50.0   <=50K.  both  \n",
      "48841            40.0   <=50K.  both  \n",
      "\n",
      "[48842 rows x 16 columns]\n"
     ]
    }
   ],
   "source": [
    "#Verificamos los datos para las Tablas unidas mediante el método Inner \n",
    "dataDiffLeftOuter = MergeOuter[MergeOuter.union == 'left_only']\n",
    "dataDiffRightOuter = MergeOuter[MergeOuter.union == 'right_only']\n",
    "dataEqualOuter = MergeOuter[MergeOuter.union == 'both']\n",
    "print(dataDiffLeftOuter)\n",
    "print(dataDiffRightOuter)\n",
    "print(dataEqualOuter)\n",
    "#En este paso podemos observar que hay un valor Diferente y que pertenece a la DataFrame cvs2 = w_data.csv"
   ]
  },
  {
   "cell_type": "code",
   "execution_count": 10,
   "id": "5af90a1a",
   "metadata": {},
   "outputs": [
    {
     "data": {
      "text/plain": [
       "[' <=50K', ' >50K', nan, ' <=50K.', ' >50K.']"
      ]
     },
     "execution_count": 10,
     "metadata": {},
     "output_type": "execute_result"
    }
   ],
   "source": [
    "#Consigna Punto 2: Corregir los target a solo dos valores distintos ‘<=50k’ y ‘>50k’\n",
    "#Veamos los valores distintos que tiene la columna Target\n",
    "MergeInner['Target'].unique().tolist()"
   ]
  },
  {
   "cell_type": "code",
   "execution_count": 11,
   "id": "5b3d27f2",
   "metadata": {},
   "outputs": [],
   "source": [
    "#Ahora corregiremos dichos valores a ‘<=50k’ y ‘>50k’\n",
    "clean1 = MergeInner['Target'].str.replace(' ','',regex=True)"
   ]
  },
  {
   "cell_type": "code",
   "execution_count": 12,
   "id": "6df2708e",
   "metadata": {},
   "outputs": [
    {
     "data": {
      "text/plain": [
       "['<=50K', '>50K', nan]"
      ]
     },
     "execution_count": 12,
     "metadata": {},
     "output_type": "execute_result"
    }
   ],
   "source": [
    "clean2 = clean1.str.replace('.','',regex=True)\n",
    "clean2.unique().tolist()"
   ]
  },
  {
   "cell_type": "code",
   "execution_count": 13,
   "id": "63c557c5",
   "metadata": {},
   "outputs": [],
   "source": [
    "#Reemplazamos la columna Target con la columna clean2\n",
    "TablaFinal = MergeInner.drop(('Target'), axis=1)"
   ]
  },
  {
   "cell_type": "code",
   "execution_count": 14,
   "id": "be9a924c",
   "metadata": {},
   "outputs": [],
   "source": [
    "TablaFinal.insert(14, 'Target', clean2)"
   ]
  },
  {
   "cell_type": "code",
   "execution_count": 15,
   "id": "1f9132b4",
   "metadata": {},
   "outputs": [
    {
     "data": {
      "text/html": [
       "<div>\n",
       "<style scoped>\n",
       "    .dataframe tbody tr th:only-of-type {\n",
       "        vertical-align: middle;\n",
       "    }\n",
       "\n",
       "    .dataframe tbody tr th {\n",
       "        vertical-align: top;\n",
       "    }\n",
       "\n",
       "    .dataframe thead th {\n",
       "        text-align: right;\n",
       "    }\n",
       "</style>\n",
       "<table border=\"1\" class=\"dataframe\">\n",
       "  <thead>\n",
       "    <tr style=\"text-align: right;\">\n",
       "      <th></th>\n",
       "      <th>Age</th>\n",
       "      <th>Sex</th>\n",
       "      <th>ID</th>\n",
       "      <th>Race</th>\n",
       "      <th>Country</th>\n",
       "      <th>Education</th>\n",
       "      <th>Education-Num</th>\n",
       "      <th>Marital Status</th>\n",
       "      <th>Relationship</th>\n",
       "      <th>Workclass</th>\n",
       "      <th>fnlwgt</th>\n",
       "      <th>Capital Gain</th>\n",
       "      <th>Capital Loss</th>\n",
       "      <th>Hours per week</th>\n",
       "      <th>Target</th>\n",
       "      <th>union</th>\n",
       "    </tr>\n",
       "  </thead>\n",
       "  <tbody>\n",
       "    <tr>\n",
       "      <th>0</th>\n",
       "      <td>39.0</td>\n",
       "      <td>Male</td>\n",
       "      <td>49084</td>\n",
       "      <td>White</td>\n",
       "      <td>United-States</td>\n",
       "      <td>Bachelors</td>\n",
       "      <td>13.0</td>\n",
       "      <td>Never-married</td>\n",
       "      <td>Not-in-family</td>\n",
       "      <td>State-gov</td>\n",
       "      <td>77516.0</td>\n",
       "      <td>2174.0</td>\n",
       "      <td>0.0</td>\n",
       "      <td>40.0</td>\n",
       "      <td>&lt;=50K</td>\n",
       "      <td>both</td>\n",
       "    </tr>\n",
       "    <tr>\n",
       "      <th>1</th>\n",
       "      <td>50.0</td>\n",
       "      <td>Male</td>\n",
       "      <td>68553</td>\n",
       "      <td>White</td>\n",
       "      <td>United-States</td>\n",
       "      <td>Bachelors</td>\n",
       "      <td>13.0</td>\n",
       "      <td>Married-civ-spouse</td>\n",
       "      <td>Husband</td>\n",
       "      <td>Self-emp-not-inc</td>\n",
       "      <td>83311.0</td>\n",
       "      <td>0.0</td>\n",
       "      <td>0.0</td>\n",
       "      <td>13.0</td>\n",
       "      <td>&lt;=50K</td>\n",
       "      <td>both</td>\n",
       "    </tr>\n",
       "    <tr>\n",
       "      <th>2</th>\n",
       "      <td>38.0</td>\n",
       "      <td>Male</td>\n",
       "      <td>143654</td>\n",
       "      <td>White</td>\n",
       "      <td>United-States</td>\n",
       "      <td>HS-grad</td>\n",
       "      <td>9.0</td>\n",
       "      <td>Divorced</td>\n",
       "      <td>Not-in-family</td>\n",
       "      <td>Private</td>\n",
       "      <td>215646.0</td>\n",
       "      <td>0.0</td>\n",
       "      <td>0.0</td>\n",
       "      <td>40.0</td>\n",
       "      <td>&lt;=50K</td>\n",
       "      <td>both</td>\n",
       "    </tr>\n",
       "    <tr>\n",
       "      <th>3</th>\n",
       "      <td>53.0</td>\n",
       "      <td>Male</td>\n",
       "      <td>41510</td>\n",
       "      <td>Black</td>\n",
       "      <td>United-States</td>\n",
       "      <td>11th</td>\n",
       "      <td>7.0</td>\n",
       "      <td>Married-civ-spouse</td>\n",
       "      <td>Husband</td>\n",
       "      <td>Private</td>\n",
       "      <td>234721.0</td>\n",
       "      <td>0.0</td>\n",
       "      <td>0.0</td>\n",
       "      <td>40.0</td>\n",
       "      <td>&lt;=50K</td>\n",
       "      <td>both</td>\n",
       "    </tr>\n",
       "    <tr>\n",
       "      <th>4</th>\n",
       "      <td>28.0</td>\n",
       "      <td>Female</td>\n",
       "      <td>195025</td>\n",
       "      <td>Black</td>\n",
       "      <td>Cuba</td>\n",
       "      <td>Bachelors</td>\n",
       "      <td>13.0</td>\n",
       "      <td>Married-civ-spouse</td>\n",
       "      <td>Wife</td>\n",
       "      <td>Private</td>\n",
       "      <td>338409.0</td>\n",
       "      <td>0.0</td>\n",
       "      <td>0.0</td>\n",
       "      <td>40.0</td>\n",
       "      <td>&lt;=50K</td>\n",
       "      <td>both</td>\n",
       "    </tr>\n",
       "  </tbody>\n",
       "</table>\n",
       "</div>"
      ],
      "text/plain": [
       "    Age      Sex      ID    Race         Country   Education  Education-Num  \\\n",
       "0  39.0     Male   49084   White   United-States   Bachelors           13.0   \n",
       "1  50.0     Male   68553   White   United-States   Bachelors           13.0   \n",
       "2  38.0     Male  143654   White   United-States     HS-grad            9.0   \n",
       "3  53.0     Male   41510   Black   United-States        11th            7.0   \n",
       "4  28.0   Female  195025   Black            Cuba   Bachelors           13.0   \n",
       "\n",
       "        Marital Status    Relationship          Workclass    fnlwgt  \\\n",
       "0        Never-married   Not-in-family          State-gov   77516.0   \n",
       "1   Married-civ-spouse         Husband   Self-emp-not-inc   83311.0   \n",
       "2             Divorced   Not-in-family            Private  215646.0   \n",
       "3   Married-civ-spouse         Husband            Private  234721.0   \n",
       "4   Married-civ-spouse            Wife            Private  338409.0   \n",
       "\n",
       "   Capital Gain  Capital Loss  Hours per week Target union  \n",
       "0        2174.0           0.0            40.0  <=50K  both  \n",
       "1           0.0           0.0            13.0  <=50K  both  \n",
       "2           0.0           0.0            40.0  <=50K  both  \n",
       "3           0.0           0.0            40.0  <=50K  both  \n",
       "4           0.0           0.0            40.0  <=50K  both  "
      ]
     },
     "execution_count": 15,
     "metadata": {},
     "output_type": "execute_result"
    }
   ],
   "source": [
    "TablaFinal.head()"
   ]
  },
  {
   "cell_type": "code",
   "execution_count": 64,
   "id": "458b731e",
   "metadata": {},
   "outputs": [
    {
     "data": {
      "text/plain": [
       "23.92661902909441"
      ]
     },
     "execution_count": 64,
     "metadata": {},
     "output_type": "execute_result"
    }
   ],
   "source": [
    "#Consigna Punto 3: Calcular la proporción que hay entre personas con salarios >50k respecto del total para \n",
    "#Entre personas de distinto sexo, Raza y Educacion. Por ejemplo cuál es el porcentaje de mujeres con un salario mayor a 50K\n",
    "# y compararlo con el de los hombres. Lo mismo para personas de distintas razas y Educación\n",
    "\n",
    "#Cálculo de personas con salario mayor a >50k respecto al total\n",
    "personas_mayores_50k = TablaFinal[TablaFinal.Target == '>50K']\n",
    "porcentaje_pm50k = (personas_mayores_50k['Target'].count()/TablaFinal['Target'].count())*100\n",
    "porcentaje_pm50k"
   ]
  },
  {
   "cell_type": "code",
   "execution_count": 17,
   "id": "6ed201ff",
   "metadata": {},
   "outputs": [
    {
     "data": {
      "text/plain": [
       "[' Male', ' Female']"
      ]
     },
     "execution_count": 17,
     "metadata": {},
     "output_type": "execute_result"
    }
   ],
   "source": [
    "personas_mayores_50k['Sex'].unique().tolist()"
   ]
  },
  {
   "cell_type": "code",
   "execution_count": 65,
   "id": "b356d740",
   "metadata": {},
   "outputs": [
    {
     "data": {
      "text/plain": [
       "15.137771692623653"
      ]
     },
     "execution_count": 65,
     "metadata": {},
     "output_type": "execute_result"
    }
   ],
   "source": [
    "#Cálculo de mujeres que ganan mas de 50k\n",
    "mujeresm50k = personas_mayores_50k[personas_mayores_50k['Sex'] == ' Female'].shape[0]\n",
    "porcentaje_mujeresm50k = (mujeresm50k/personas_mayores_50k.shape[0])*100\n",
    "porcentaje_mujeresm50k"
   ]
  },
  {
   "cell_type": "code",
   "execution_count": 66,
   "id": "259c189d",
   "metadata": {},
   "outputs": [
    {
     "data": {
      "text/plain": [
       "84.86222830737634"
      ]
     },
     "execution_count": 66,
     "metadata": {},
     "output_type": "execute_result"
    }
   ],
   "source": [
    "#Cálculo de hombres que ganan mas de 50k\n",
    "hombresm50k = personas_mayores_50k[personas_mayores_50k['Sex'] == ' Male'].shape[0]\n",
    "porcentaje_hombresm50k = hombresm50k*100/personas_mayores_50k.shape[0]\n",
    "porcentaje_hombresm50k"
   ]
  },
  {
   "cell_type": "code",
   "execution_count": 67,
   "id": "2d3b0e50",
   "metadata": {},
   "outputs": [
    {
     "data": {
      "text/plain": [
       "4.843402361800445"
      ]
     },
     "execution_count": 67,
     "metadata": {},
     "output_type": "execute_result"
    }
   ],
   "source": [
    "#Cálculo de personas de color que ganan mas de 50k\n",
    "bpm50k = personas_mayores_50k[personas_mayores_50k['Race'] == ' Black'].shape[0]\n",
    "porcentaje_bpm50k = bpm50k*100/personas_mayores_50k.shape[0]\n",
    "porcentaje_bpm50k"
   ]
  },
  {
   "cell_type": "code",
   "execution_count": 69,
   "id": "b13b8343",
   "metadata": {},
   "outputs": [
    {
     "data": {
      "text/plain": [
       "90.75817217182954"
      ]
     },
     "execution_count": 69,
     "metadata": {},
     "output_type": "execute_result"
    }
   ],
   "source": [
    "#Cálculo de personas blancas que ganan mas de 50k\n",
    "wpm50k = personas_mayores_50k[personas_mayores_50k['Race'] == ' White'].shape[0]\n",
    "porcentaje_wpm50k = wpm50k*100/personas_mayores_50k.shape[0]\n",
    "porcentaje_wpm50k"
   ]
  },
  {
   "cell_type": "code",
   "execution_count": 71,
   "id": "c939e431",
   "metadata": {},
   "outputs": [
    {
     "data": {
      "image/png": "[encoded data removed]",
      "text/plain": [
       "<Figure size 280x210 with 1 Axes>"
      ]
     },
     "metadata": {
      "needs_background": "light"
     },
     "output_type": "display_data"
    }
   ],
   "source": [
    "#Armamos un diccionario con todas las medidas que calculamos anteriormente y creamos un gráfico para\n",
    "#poder apreciar la comparativa\n",
    "import matplotlib.pyplot as plt\n",
    "array_m50k = {'%Female >50K': porcentaje_mujeresm50k,\n",
    "             '%Male >50K': porcentaje_hombresm50k}\n",
    "\n",
    "eje1x = array_m50k.keys()\n",
    "eje1y = array_m50k.values()\n",
    "plt.figure(figsize=(4,3), dpi=70)\n",
    "graph_m50k = plt.bar(eje1x, eje1y)"
   ]
  },
  {
   "cell_type": "code",
   "execution_count": 26,
   "id": "1b12069a",
   "metadata": {},
   "outputs": [
    {
     "data": {
      "text/plain": [
       "[' Bachelors',\n",
       " ' HS-grad',\n",
       " ' 11th',\n",
       " ' Masters',\n",
       " ' 9th',\n",
       " ' Some-college',\n",
       " ' Assoc-acdm',\n",
       " ' Assoc-voc',\n",
       " ' 7th-8th',\n",
       " ' Doctorate',\n",
       " ' Prof-school',\n",
       " ' 5th-6th',\n",
       " ' 10th',\n",
       " ' 1st-4th',\n",
       " ' Preschool',\n",
       " ' 12th',\n",
       " nan]"
      ]
     },
     "execution_count": 26,
     "metadata": {},
     "output_type": "execute_result"
    }
   ],
   "source": [
    "#Veamos las categorías por nivel de educación\n",
    "TablaFinal['Education'].unique().tolist()"
   ]
  },
  {
   "cell_type": "code",
   "execution_count": 33,
   "id": "ab3bcc8c",
   "metadata": {},
   "outputs": [
    {
     "data": {
      "text/plain": [
       "16.428820048729552"
      ]
     },
     "execution_count": 33,
     "metadata": {},
     "output_type": "execute_result"
    }
   ],
   "source": [
    "#Cálculo de personas con bachillerato\n",
    "pwbachelor = TablaFinal[TablaFinal.Education == ' Bachelors'].shape[0]\n",
    "porcentaje_pwbachelor = pwbachelor*100/TablaFinal['Education'].count()\n",
    "porcentaje_pwbachelor"
   ]
  },
  {
   "cell_type": "code",
   "execution_count": 72,
   "id": "036d0717",
   "metadata": {},
   "outputs": [
    {
     "data": {
      "text/plain": [
       "22.272271247517455"
      ]
     },
     "execution_count": 72,
     "metadata": {},
     "output_type": "execute_result"
    }
   ],
   "source": [
    "#Cálculo de personas con algún colegio\n",
    "psbachelor = TablaFinal[TablaFinal.Education == ' Some-college'].shape[0]\n",
    "porcentaje_psbachelor = psbachelor*100/TablaFinal['Education'].count()\n",
    "porcentaje_psbachelor"
   ]
  },
  {
   "cell_type": "code",
   "execution_count": null,
   "id": "cd3c53b0",
   "metadata": {},
   "outputs": [],
   "source": []
  }
 ],
 "metadata": {
  "celltoolbar": "Raw Cell Format",
  "kernelspec": {
   "display_name": "Python 3",
   "language": "python",
   "name": "python3"
  },
  "language_info": {
   "codemirror_mode": {
    "name": "ipython",
    "version": 3
   },
   "file_extension": ".py",
   "mimetype": "text/x-python",
   "name": "python",
   "nbconvert_exporter": "python",
   "pygments_lexer": "ipython3",
   "version": "3.8.8"
  }
 },
 "nbformat": 4,
 "nbformat_minor": 5
}
